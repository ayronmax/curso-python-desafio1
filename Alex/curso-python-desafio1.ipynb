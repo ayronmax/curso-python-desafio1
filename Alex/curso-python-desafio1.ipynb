{
 "cells": [
  {
   "cell_type": "markdown",
   "id": "described-solution",
   "metadata": {},
   "source": [
    "# Curso de Python - Desafio 1"
   ]
  },
  {
   "cell_type": "markdown",
   "id": "boxed-example",
   "metadata": {},
   "source": [
    "## Importações"
   ]
  },
  {
   "cell_type": "code",
   "execution_count": 101,
   "id": "compliant-language",
   "metadata": {},
   "outputs": [],
   "source": [
    "import csv\n",
    "import psycopg2 as p"
   ]
  },
  {
   "cell_type": "markdown",
   "id": "lovely-revolution",
   "metadata": {},
   "source": [
    "## Função para ler arquivo CSV"
   ]
  },
  {
   "cell_type": "code",
   "execution_count": 102,
   "id": "sixth-viewer",
   "metadata": {},
   "outputs": [],
   "source": [
    "def ler_csv(arquivo_csv, sep): \n",
    "    with open(arquivo_csv, \"r\") as arq_csv: # abre arquivo .csv somente leitura\n",
    "        next(arq_csv) # pula a primeira linha\n",
    "        leitor_csv = csv.reader(arq_csv, delimiter=sep) # cria o objeto csv iterator   \n",
    "        lista = [x for x in leitor_csv] # percorre objeto csv iterator para carregar em uma lista \n",
    "    return lista    "
   ]
  },
  {
   "cell_type": "markdown",
   "id": "expressed-folks",
   "metadata": {},
   "source": [
    "## Função para gravar no banco"
   ]
  },
  {
   "cell_type": "code",
   "execution_count": 103,
   "id": "previous-writing",
   "metadata": {},
   "outputs": [],
   "source": [
    "def gravar_banco(lista):\n",
    "    # conecta banco Postgres Amazon RDS\n",
    "    con = p.connect(host=\"dsadev.cjzzjgprwiev.us-east-2.rds.amazonaws.com\", port=\"5432\", database=\"devdb\", user=\"postgres\", password=\"asc210996\")\n",
    "    con.autocommit = False # desabilita auto commit\n",
    "    cur = con.cursor() # carrega cursor\n",
    "    \n",
    "    for i in lista: # percorre a lista passada como parâmetro\n",
    "        sql = \"INSERT INTO curso_python_desafio1 (ID,LONG,LAT,SETCENS,AREAP,CODDIST,DISTRITO,CODSUBPREF,SUBPREF,REGIAO5,REGIAO8,ESTABELECI,ENDERECO,BAIRRO,TELEFONE,CEP,CNES,SA_DEPADM,DEPADM,SA_TIPO,TIPO,SA_CLASSE,CLASSE,LEITOS) VALUES (\"\n",
    "        sql = sql + \"'\" + \"'\".join(map(lambda x: x + \"',\", i)) # concatena a lista percorrida para formar o comando insert\n",
    "        sql = sql[:-1] + \")\" # retira o último caractere que é uma vírgula e adiciona o parêntese\n",
    "        \n",
    "        try:\n",
    "            cur.execute(sql) # executa comando sql insert\n",
    "            con.commit() # commit de cada insert\n",
    "        except Exception as e:\n",
    "            con.rollback() # rollback insert em caso de erro\n",
    "            \n",
    "            with open(\"curso-python-desafio1.log\", \"w\") as log: # grava em log no caso de erro no insert\n",
    "                log.write(sql + \"\\n\" + str(e) + \"\\n\")\n",
    "            \n",
    "            pass # não para quando ocorrer erro\n",
    "    \n",
    "    cur.close() # fecha cursor\n",
    "    con.close() # fecha conexão\n",
    "                "
   ]
  },
  {
   "cell_type": "code",
   "execution_count": 104,
   "id": "coastal-furniture",
   "metadata": {},
   "outputs": [],
   "source": [
    "gravar_banco(ler_csv(\"deinfosacadsau2014.csv\", \",\"))"
   ]
  }
 ],
 "metadata": {
  "kernelspec": {
   "display_name": "Python 3",
   "language": "python",
   "name": "python3"
  },
  "language_info": {
   "codemirror_mode": {
    "name": "ipython",
    "version": 3
   },
   "file_extension": ".py",
   "mimetype": "text/x-python",
   "name": "python",
   "nbconvert_exporter": "python",
   "pygments_lexer": "ipython3",
   "version": "3.8.6"
  }
 },
 "nbformat": 4,
 "nbformat_minor": 5
}
